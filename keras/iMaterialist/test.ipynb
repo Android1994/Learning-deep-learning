{
 "cells": [
  {
   "cell_type": "code",
   "execution_count": 1,
   "metadata": {},
   "outputs": [
    {
     "name": "stderr",
     "output_type": "stream",
     "text": [
      "Using TensorFlow backend.\n"
     ]
    }
   ],
   "source": [
    "import numpy as np # linear algebra\n",
    "import pandas as pd # data processing, CSV file I/O (e.g. pd.read_csv)\n",
    "import os\n",
    "from PIL import Image\n",
    "import csv\n",
    "from keras.models import load_model\n",
    "model = load_model('temp_RIV2_1.h5')\n",
    "# img_path=\"data/val_data/id_1_labels_[62, 17, 66, 214, 105, 137, 85].jpg\"\n",
    "\n",
    "# im = Image.open(img_path).convert('RGB') #转换为灰度图，选项:1,L,P,RGB,RGBA,CMYK,YCbCr,I,F\n",
    "# imResize = im.resize((299, 299))\n",
    "# imageData = np.array(imResize)\n",
    "\n",
    "# X = imageData.reshape(1,299,299,3).astype('float32')\n",
    "\n",
    "# pred = model.predict(X)\n",
    "# class_i = np.argmax(pred[0])\n",
    "# prob=\"%0.2f\"%(pred[0][class_i])"
   ]
  },
  {
   "cell_type": "code",
   "execution_count": 14,
   "metadata": {},
   "outputs": [],
   "source": [
    "img_path=\"data/val_data/id_1_labels_[62, 17, 66, 214, 105, 137, 85].jpg\"\n",
    "\n",
    "im = Image.open(img_path).convert('RGB') #转换为灰度图，选项:1,L,P,RGB,RGBA,CMYK,YCbCr,I,F\n",
    "imResize = im.resize((299, 299))\n",
    "imageData = np.array(imResize)\n",
    "\n",
    "X = imageData.reshape(1,299,299,3).astype('float32')\n",
    "\n",
    "pred = model.predict(X)\n",
    "\n"
   ]
  },
  {
   "cell_type": "code",
   "execution_count": 15,
   "metadata": {},
   "outputs": [],
   "source": [
    "pred_arr=np.array(pred)"
   ]
  },
  {
   "cell_type": "code",
   "execution_count": 2,
   "metadata": {},
   "outputs": [],
   "source": [
    "pred_arr"
   ]
  },
  {
   "cell_type": "code",
   "execution_count": 20,
   "metadata": {},
   "outputs": [
    {
     "name": "stdout",
     "output_type": "stream",
     "text": [
      "17\n",
      "66\n",
      "105\n",
      "153\n",
      "171\n",
      "214\n"
     ]
    }
   ],
   "source": [
    "for i in range(0,228):\n",
    "    if(pred[0][i]>0.2):\n",
    "        print(i+1)"
   ]
  },
  {
   "cell_type": "code",
   "execution_count": 35,
   "metadata": {},
   "outputs": [
    {
     "name": "stdout",
     "output_type": "stream",
     "text": [
      "16\n",
      "18\n",
      "19\n",
      "52\n",
      "61\n",
      "65\n",
      "104\n",
      "105\n",
      "136\n",
      "137\n",
      "152\n",
      "163\n",
      "170\n",
      "213\n",
      "221\n"
     ]
    }
   ],
   "source": [
    "for i in range(0,228):\n",
    "    if(pred[0][0][i]>0.1):\n",
    "        print(i)"
   ]
  },
  {
   "cell_type": "code",
   "execution_count": 11,
   "metadata": {},
   "outputs": [],
   "source": [
    "img_name=\"id_64_labels_[47, 66, 226, 148, 178, 171, 137, 115, 20, 175, 138].jpg\"\n",
    "temp=img_name.split(\"_\")\n",
    "temp=temp[3].split(\".\")\n",
    "temp=temp[0].split(\"[\")\n",
    "temp=temp[1].split(\"]\")\n",
    "temp=temp[0].split(\",\")\n",
    "\n",
    "each_label_list = [0] * 228\n",
    "for j in range(0,len(temp)):\n",
    "    each_label_list[int(temp[j])-1]=1"
   ]
  },
  {
   "cell_type": "code",
   "execution_count": 12,
   "metadata": {},
   "outputs": [],
   "source": [
    "train_data = pd.read_csv('data/train.csv')   ####1014544\n",
    "val_data = pd.read_csv('data/val.csv')\n",
    "#test_data = pd.read_csv('data/test.csv')\n",
    "file_dir=\"data/train_data/\"\n",
    "val_dir=\"data/val_data/\"\n",
    "\n",
    "images = []\n",
    "labels = []\n",
    "for img_num in range(0,9897):\n",
    "    img_name=val_data['filename'][img_num]\n",
    "    img_path = val_dir+img_name\n",
    "    if os.path.exists(img_path):\n",
    "        im = Image.open(img_path).convert('RGB') #转换为灰度图，选项:1,L,P,RGB,RGBA,CMYK,YCbCr,I,F\n",
    "        imResize = im.resize((299, 299))\n",
    "        imageData = np.array(imResize)\n",
    "        images.append(imageData)\n",
    "        #(filename,extension) = os.path.splitext(img_name)\n",
    "\n",
    "        #labels.append(train_data['landmark_id'][img_num])\n",
    "        temp=img_name.split(\"_\")\n",
    "        temp=temp[3].split(\".\")\n",
    "        temp=temp[0].split(\"[\")\n",
    "        temp=temp[1].split(\"]\")\n",
    "        temp=temp[0].split(\",\")\n",
    "\n",
    "        each_label_list = [0] * 228\n",
    "        for j in range(0,len(temp)):\n",
    "            each_label_list[int(temp[j])-1]=1\n",
    "\n",
    "        labels.append(each_label_list)\n",
    "\n",
    "X_val = np.array(images)\n",
    "X_val = X_val.reshape(X_val.shape[0],299,299,3).astype('float32')\n",
    "y_val=np.array(labels,dtype=np.float)"
   ]
  },
  {
   "cell_type": "code",
   "execution_count": 3,
   "metadata": {},
   "outputs": [
    {
     "name": "stdout",
     "output_type": "stream",
     "text": [
      "9897/9897 [==============================] - 76s 8ms/step\n"
     ]
    }
   ],
   "source": [
    "preds=model.predict(X_val, batch_size=32, verbose=1)"
   ]
  },
  {
   "cell_type": "code",
   "execution_count": 6,
   "metadata": {},
   "outputs": [
    {
     "data": {
      "text/plain": [
       "0.007901025"
      ]
     },
     "execution_count": 6,
     "metadata": {},
     "output_type": "execute_result"
    }
   ],
   "source": [
    "preds[0][227]"
   ]
  },
  {
   "cell_type": "code",
   "execution_count": 1,
   "metadata": {},
   "outputs": [],
   "source": [
    "for i in range(0,9897):\n",
    "    predList=[]\n",
    "    for j in range(0,228):\n",
    "        if(preds[i][j]>0.3):\n",
    "            predList.append(j+1)\n",
    "    #print(predList)"
   ]
  },
  {
   "cell_type": "code",
   "execution_count": 13,
   "metadata": {},
   "outputs": [
    {
     "name": "stdout",
     "output_type": "stream",
     "text": [
      "9897/9897 [==============================] - 179s 18ms/step\n"
     ]
    },
    {
     "data": {
      "text/plain": [
       "[0.10756188476430149, 0.96896543084364584]"
      ]
     },
     "execution_count": 13,
     "metadata": {},
     "output_type": "execute_result"
    }
   ],
   "source": [
    "model.evaluate(X_val, y_val, batch_size=32, verbose=1)"
   ]
  },
  {
   "cell_type": "code",
   "execution_count": 1,
   "metadata": {},
   "outputs": [
    {
     "name": "stderr",
     "output_type": "stream",
     "text": [
      "Using TensorFlow backend.\n"
     ]
    }
   ],
   "source": [
    "#####预测并生成submission.csv\n",
    "import numpy as np # linear algebra\n",
    "import pandas as pd # data processing, CSV file I/O (e.g. pd.read_csv)\n",
    "import os\n",
    "from PIL import Image\n",
    "import csv\n",
    "from keras.models import load_model\n",
    "import json\n",
    "\n",
    "\n",
    "test_dir=\"data/test_data/\"\n",
    "\n",
    "model = load_model('temp_RIV2_1.h5')\n",
    "\n",
    "file_path=\"data/temp_RIV2_1.csv\"\n",
    "\n",
    "for _id in range(1,39707):\n",
    "    \n",
    "    img_path=test_dir+\"%d\"%(_id)+\".jpg\"\n",
    "    im = Image.open(img_path).convert('RGB') #转换为灰度图，选项:1,L,P,RGB,RGBA,CMYK,YCbCr,I,F\n",
    "    imResize = im.resize((299, 299))\n",
    "    imageData = np.array(imResize)\n",
    "\n",
    "    X = imageData.reshape(1,299,299,3).astype('float32')\n",
    "    \n",
    "    res=\"\"\n",
    "    pred = model.predict(X)\n",
    "    for i in range(0,228):\n",
    "        if(pred[0][i]>0.2):\n",
    "            res+=\"%d \"%(i+1)\n",
    "    \n",
    "    \n",
    "    if os.path.exists(file_path):\n",
    "        da = [_id,res]\n",
    "        # 写入数据\n",
    "        csvFile = open(file_path, \"a+\")\n",
    "        writer = csv.writer(csvFile)\n",
    "        # 写入的内容都是以列表的形式传入函数\n",
    "        writer.writerow(da)\n",
    "        csvFile.close()\n",
    "    else:\n",
    "        fileHeader = [\"image_id\", \"label_id\"]\n",
    "        # 假设我们要写入的是以下两行数据\n",
    "        da = [_id,res]\n",
    "        # 写入数据\n",
    "        csvFile = open(file_path, \"a+\")\n",
    "        writer = csv.writer(csvFile)\n",
    "        # 写入的内容都是以列表的形式传入函数\n",
    "        writer.writerow(fileHeader)\n",
    "        writer.writerow(da)\n",
    "        csvFile.close()"
   ]
  },
  {
   "cell_type": "code",
   "execution_count": null,
   "metadata": {},
   "outputs": [],
   "source": []
  }
 ],
 "metadata": {
  "kernelspec": {
   "display_name": "Python 3",
   "language": "python",
   "name": "python3"
  },
  "language_info": {
   "codemirror_mode": {
    "name": "ipython",
    "version": 3
   },
   "file_extension": ".py",
   "mimetype": "text/x-python",
   "name": "python",
   "nbconvert_exporter": "python",
   "pygments_lexer": "ipython3",
   "version": "3.5.2"
  }
 },
 "nbformat": 4,
 "nbformat_minor": 2
}
