{
 "cells": [
  {
   "cell_type": "code",
   "execution_count": 6,
   "metadata": {},
   "outputs": [
    {
     "name": "stdout",
     "output_type": "stream",
     "text": [
      "39706\n"
     ]
    }
   ],
   "source": [
    "import os\n",
    "import json\n",
    "\n",
    "#data_file=\"train.json\"\n",
    "#data_file=\"validation.json\"\n",
    "data_file=\"test.json\"\n",
    "j = json.load(open(data_file))\n",
    "\n",
    "annotations = {}\n",
    "\n",
    "if 'train' in data_file or 'validation' in data_file:\n",
    "    _annotations = j['annotations']\n",
    "    for annotation in _annotations:\n",
    "        annotations[annotation['imageId']] = [int(i) for i in annotation['labelId']]\n",
    "\n",
    "filenames = []\n",
    "images = j['images']\n",
    "\n",
    "count=0\n",
    "for item in images:\n",
    "    url = item['url']\n",
    "    id_ = item['imageId']\n",
    "\n",
    "    filepath=\"\"\n",
    "    filename=\"\"\n",
    "    if id_ in annotations:\n",
    "        id_ = \"id_{}_labels_{}\".format(id_, annotations[id_])\n",
    "    #filename=id_+\".jpg\"\n",
    "    #filepath=\"data/val_data/\"+filename\n",
    "    filename=\"%d\"%(id_)+\".jpg\"\n",
    "    filepath=\"data/test_data/\"+filename\n",
    "    if(os.path.exists(filepath)):\n",
    "        count+=1\n",
    "        filenames.append(filename)\n",
    "\n",
    "print(count)"
   ]
  },
  {
   "cell_type": "code",
   "execution_count": 10,
   "metadata": {},
   "outputs": [],
   "source": [
    "import random\n",
    "random.shuffle(filenames) "
   ]
  },
  {
   "cell_type": "code",
   "execution_count": 2,
   "metadata": {},
   "outputs": [],
   "source": [
    "###################生成train.csv\n",
    "import csv\n",
    "import numpy as np # linear algebra\n",
    "import pandas as pd # data processing, CSV file I/O (e.g. pd.read_csv)\n",
    "import os\n",
    "\n",
    "\n",
    "#file_path=\"data/train.csv\"\n",
    "file_path=\"data/val.csv\"\n",
    "for i in range(0,count):\n",
    "    _id=filenames[i]\n",
    "    \n",
    "    \n",
    "    if os.path.exists(file_path):\n",
    "        da = [_id]\n",
    "        # 写入数据\n",
    "        csvFile = open(file_path, \"a+\")\n",
    "        writer = csv.writer(csvFile)\n",
    "        # 写入的内容都是以列表的形式传入函数\n",
    "        writer.writerow(da)\n",
    "        csvFile.close()\n",
    "    else:\n",
    "        fileHeader = [\"filename\"]\n",
    "        # 假设我们要写入的是以下两行数据\n",
    "        da = [_id]\n",
    "        # 写入数据\n",
    "        csvFile = open(file_path, \"a+\")\n",
    "        writer = csv.writer(csvFile)\n",
    "        # 写入的内容都是以列表的形式传入函数\n",
    "        writer.writerow(fileHeader)\n",
    "        writer.writerow(da)\n",
    "        csvFile.close()"
   ]
  },
  {
   "cell_type": "code",
   "execution_count": 42,
   "metadata": {},
   "outputs": [
    {
     "name": "stdout",
     "output_type": "stream",
     "text": [
      "[0 1 1 1 1 1 1 1 1 1 1 1 1 1 1 1 1 1 1 1 1 1 1 1 1 1 1 1 1 1 1 1 1 1 1 1 1\n",
      " 1 1 1 1 1 1 1 1 1 1 1 1 1 1 1 1 1 1 1 1 1 1 1 1 1 1 1 1 1 1 1 1 1 1 1 1 1\n",
      " 1 1 1 1 1 1 1 1 1 1 1 1 1 1 1 1 1 1 1 1 1 1 1 1 1 1 1 1 1 1 1 1 1 1 1 1 1\n",
      " 1 1 1 1 1 1 1 1 1 1 1 1 1 1 1 1 1 1 1 1 1 1 1 1 1 1 1 1 1 1 1 1 1 1 1 1 1\n",
      " 1 1 1 1 1 1 1 1 1 1 1 1 1 1 1 1 1 1 1 1 1 1 1 1 1 1 1 1 1 1 1 1 1 1 1 1 1\n",
      " 1 1 1 1 1 1 1 1 1 1 1 1 1 1 1 1 1 1 1 1 1 1 1 1 1 1 1 1 1 1 1 1 1 1 1 1 1\n",
      " 1 1 1 1 1 1 1 0 0 0 0 0 0 0 0 0 0 0 0 0 0 0 0 0 0 0 0 0 0 0 0 0 0 0 0 0 0\n",
      " 0 0 0 0 0 0 0 0 0 0 0 0 0 0 0 0 0 0 0 0 0 0 0 0 0 0 0 0 0 0 0 0 0 0 0 0 0\n",
      " 0 0 0 0]\n"
     ]
    }
   ],
   "source": [
    "##############分析数据\n",
    "import numpy as np\n",
    "temp_list=[]\n",
    "label_count=np.zeros((300),dtype=np.int)\n",
    "for i in range(0,count):\n",
    "    _id=filenames[i]\n",
    "    temp=_id.split(\"_\")\n",
    "    temp=temp[3].split(\".\")\n",
    "    temp=temp[0].split(\"[\")\n",
    "    temp=temp[1].split(\"]\")\n",
    "    temp=temp[0].split(\",\")\n",
    "    for j in range(0,len(temp)):\n",
    "        #print(temp[j])\n",
    "        label_count[int(temp[j])]=1\n",
    "\n",
    "print(label_count) ##1-228"
   ]
  },
  {
   "cell_type": "code",
   "execution_count": 61,
   "metadata": {},
   "outputs": [
    {
     "name": "stdout",
     "output_type": "stream",
     "text": [
      "[[ 0.  0.  0. ...,  0.  0.  0.]\n",
      " [ 0.  0.  0. ...,  0.  0.  0.]\n",
      " [ 0.  0.  0. ...,  0.  0.  0.]\n",
      " ..., \n",
      " [ 0.  0.  0. ...,  0.  0.  0.]\n",
      " [ 0.  0.  0. ...,  0.  0.  0.]\n",
      " [ 0.  0.  0. ...,  0.  0.  0.]]\n"
     ]
    }
   ],
   "source": [
    "##################尝试对y进行多标签编码\n",
    "import numpy as np\n",
    "label_list=[]\n",
    "for i in range(0,32):\n",
    "    _id=filenames[i]\n",
    "    temp=_id.split(\"_\")\n",
    "    temp=temp[3].split(\".\")\n",
    "    temp=temp[0].split(\"[\")\n",
    "    temp=temp[1].split(\"]\")\n",
    "    temp=temp[0].split(\",\")\n",
    "    \n",
    "    each_label_list = [0] * 228\n",
    "    for j in range(0,len(temp)):\n",
    "        each_label_list[int(temp[j])-1]=1\n",
    "        \n",
    "    label_list.append(each_label_list)\n",
    "\n",
    "label_arr=np.array(label_list,dtype=np.float)\n",
    "print(label_arr) "
   ]
  },
  {
   "cell_type": "code",
   "execution_count": 57,
   "metadata": {},
   "outputs": [
    {
     "name": "stdout",
     "output_type": "stream",
     "text": [
      "[[0 0 0 ..., 0 0 0]\n",
      " [0 0 0 ..., 0 0 0]\n",
      " [0 0 0 ..., 0 0 0]\n",
      " ..., \n",
      " [0 0 0 ..., 0 0 0]\n",
      " [0 0 0 ..., 0 0 0]\n",
      " [0 0 0 ..., 0 0 0]]\n"
     ]
    }
   ],
   "source": [
    "label_arr=np.array(label_list)\n",
    "print(label_arr) "
   ]
  },
  {
   "cell_type": "code",
   "execution_count": 45,
   "metadata": {},
   "outputs": [],
   "source": [
    "from keras.utils import np_utils\n",
    "y=[1,2,3,4,5]\n",
    "y_arr=np.array(y)\n",
    "y_test = np_utils.to_categorical(y_arr,6)"
   ]
  },
  {
   "cell_type": "code",
   "execution_count": 56,
   "metadata": {},
   "outputs": [
    {
     "data": {
      "text/plain": [
       "array([[ 0.,  1.,  0.,  0.,  0.,  0.],\n",
       "       [ 0.,  0.,  1.,  0.,  0.,  0.],\n",
       "       [ 0.,  0.,  0.,  1.,  0.,  0.],\n",
       "       [ 0.,  0.,  0.,  0.,  1.,  0.],\n",
       "       [ 0.,  0.,  0.,  0.,  0.,  1.]])"
      ]
     },
     "execution_count": 56,
     "metadata": {},
     "output_type": "execute_result"
    }
   ],
   "source": [
    "y_test"
   ]
  },
  {
   "cell_type": "code",
   "execution_count": 59,
   "metadata": {},
   "outputs": [],
   "source": [
    "label_arr=np.array(label_arr,dtype=np.float)"
   ]
  },
  {
   "cell_type": "code",
   "execution_count": 63,
   "metadata": {},
   "outputs": [
    {
     "data": {
      "text/plain": [
       "(32, 228)"
      ]
     },
     "execution_count": 63,
     "metadata": {},
     "output_type": "execute_result"
    }
   ],
   "source": [
    "label_arr.shape"
   ]
  },
  {
   "cell_type": "code",
   "execution_count": 64,
   "metadata": {},
   "outputs": [
    {
     "data": {
      "text/plain": [
       "[array([[ 0.,  0.,  0., ...,  0.,  0.,  0.],\n",
       "        [ 0.,  0.,  0., ...,  0.,  0.,  0.],\n",
       "        [ 0.,  0.,  0., ...,  0.,  0.,  0.],\n",
       "        ..., \n",
       "        [ 0.,  0.,  0., ...,  0.,  0.,  0.],\n",
       "        [ 0.,  0.,  0., ...,  0.,  0.,  0.],\n",
       "        [ 0.,  0.,  0., ...,  0.,  0.,  0.]]),\n",
       " array([[ 0.,  0.,  0., ...,  0.,  0.,  0.],\n",
       "        [ 0.,  0.,  0., ...,  0.,  0.,  0.],\n",
       "        [ 0.,  0.,  0., ...,  0.,  0.,  0.],\n",
       "        ..., \n",
       "        [ 0.,  0.,  0., ...,  0.,  0.,  0.],\n",
       "        [ 0.,  0.,  0., ...,  0.,  0.,  0.],\n",
       "        [ 0.,  0.,  0., ...,  0.,  0.,  0.]])]"
      ]
     },
     "execution_count": 64,
     "metadata": {},
     "output_type": "execute_result"
    }
   ],
   "source": [
    "[label_arr,label_arr]"
   ]
  },
  {
   "cell_type": "code",
   "execution_count": null,
   "metadata": {},
   "outputs": [],
   "source": []
  }
 ],
 "metadata": {
  "kernelspec": {
   "display_name": "Python 3",
   "language": "python",
   "name": "python3"
  },
  "language_info": {
   "codemirror_mode": {
    "name": "ipython",
    "version": 3
   },
   "file_extension": ".py",
   "mimetype": "text/x-python",
   "name": "python",
   "nbconvert_exporter": "python",
   "pygments_lexer": "ipython3",
   "version": "3.5.2"
  }
 },
 "nbformat": 4,
 "nbformat_minor": 2
}
