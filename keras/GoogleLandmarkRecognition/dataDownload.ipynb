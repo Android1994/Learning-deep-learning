{
 "cells": [
  {
   "cell_type": "code",
   "execution_count": 2,
   "metadata": {},
   "outputs": [],
   "source": [
    "import multiprocessing\n",
    "import os\n",
    "from io import BytesIO\n",
    "from urllib import request\n",
    "import pandas as pd\n",
    "import re\n",
    "import tqdm\n",
    "from PIL import Image\n",
    "\n",
    "proxies = {\n",
    "    'https': 'https://127.0.0.1:8123',\n",
    "    'http': 'http://127.0.0.1:8123'\n",
    "}\n",
    "# construct a new opener using your proxy settings\n",
    "opener = request.build_opener(request.ProxyHandler(proxies))\n",
    "# install the openen on the module-level\n",
    "request.install_opener(opener)\n",
    "\n",
    "\n",
    "# set files and dir\n",
    "#DATA_FRAME, OUT_DIR = pd.read_csv('data/train.csv'), 'data/train_img'  # recognition challenge\n",
    "DATA_FRAME, OUT_DIR = pd.read_csv('data/test.csv'), 'data/test_img'  # recognition challenge\n",
    "\n",
    "# DATA_FRAME, OUT_DIR = pd.read_csv('../input/index.csv'), '../input/index'  # retrieval challenge\n",
    "# DATA_FRAME, OUT_DIR = pd.read_csv('../input/test.csv'), '../input/test'  # test data\n",
    "\n",
    "# preferences\n",
    "TARGET_SIZE = 128  # image resolution to be stored\n",
    "IMG_QUALITY = 90  # JPG quality\n",
    "NUM_WORKERS = 8  # Num of CPUs"
   ]
  },
  {
   "cell_type": "code",
   "execution_count": 3,
   "metadata": {},
   "outputs": [
    {
     "data": {
      "text/plain": [
       "s1600          110434\n",
       "s1600-w1600      4142\n",
       "rj                196\n",
       "s1600-w1280       182\n",
       "s1600-w960        179\n",
       "Name: url, dtype: int64"
      ]
     },
     "execution_count": 3,
     "metadata": {},
     "output_type": "execute_result"
    }
   ],
   "source": [
    "DATA_FRAME.url.apply(lambda x: x.split('/')[-2]).value_counts().head()"
   ]
  },
  {
   "cell_type": "code",
   "execution_count": 4,
   "metadata": {},
   "outputs": [],
   "source": [
    "def overwrite_urls(df):\n",
    "    def reso_overwrite(url_tail, reso=TARGET_SIZE):\n",
    "        pattern = 's[0-9]+'\n",
    "        search_result = re.match(pattern, url_tail)\n",
    "        if search_result is None:\n",
    "            return url_tail\n",
    "        else:\n",
    "            return 's{}'.format(reso)\n",
    "\n",
    "    def join_url(parsed_url, s_reso):\n",
    "        parsed_url[-2] = s_reso\n",
    "        return '/'.join(parsed_url)\n",
    "\n",
    "    parsed_url = df.url.apply(lambda x: x.split('/'))\n",
    "    train_url_tail = parsed_url.apply(lambda x: x[-2])\n",
    "    resos = train_url_tail.apply(lambda x: reso_overwrite(x, reso=TARGET_SIZE))\n",
    "\n",
    "    overwritten_df = pd.concat([parsed_url, resos], axis=1)\n",
    "    overwritten_df.columns = ['url', 's_reso']\n",
    "    df['url'] = overwritten_df.apply(lambda x: join_url(x['url'], x['s_reso']), axis=1)\n",
    "    return df\n",
    "\n",
    "\n",
    "def parse_data(df):\n",
    "    key_url_list = [line[:2] for line in df.values]\n",
    "    return key_url_list\n",
    "\n",
    "\n",
    "def download_image(key_url):\n",
    "    (key, url) = key_url\n",
    "    filename = os.path.join(OUT_DIR, '{}.jpg'.format(key))\n",
    "\n",
    "    if os.path.exists(filename):\n",
    "        print('Image {} already exists. Skipping download.'.format(filename))\n",
    "        return 0\n",
    "\n",
    "    try:\n",
    "        response = request.urlopen(url)\n",
    "        image_data = response.read()\n",
    "    except:\n",
    "        print('Warning: Could not download image {} from {}'.format(key, url))\n",
    "        return 1\n",
    "\n",
    "    try:\n",
    "        pil_image = Image.open(BytesIO(image_data))\n",
    "    except:\n",
    "        print('Warning: Failed to parse image {}'.format(key))\n",
    "        return 1\n",
    "\n",
    "    try:\n",
    "        pil_image_rgb = pil_image.convert('RGB')\n",
    "    except:\n",
    "        print('Warning: Failed to convert image {} to RGB'.format(key))\n",
    "        return 1\n",
    "\n",
    "    try:\n",
    "        pil_image_resize = pil_image_rgb.resize((TARGET_SIZE, TARGET_SIZE))\n",
    "    except:\n",
    "        print('Warning: Failed to resize image {}'.format(key))\n",
    "        return 1\n",
    "\n",
    "    try:\n",
    "        pil_image_resize.save(filename, format='JPEG', quality=IMG_QUALITY)\n",
    "    except:\n",
    "        print('Warning: Failed to save image {}'.format(filename))\n",
    "        return 1\n",
    "\n",
    "    return 0\n",
    "\n",
    "\n",
    "def loader(df):\n",
    "    if not os.path.exists(OUT_DIR):\n",
    "        os.mkdir(OUT_DIR)\n",
    "\n",
    "    key_url_list = parse_data(df)\n",
    "    pool = multiprocessing.Pool(processes=NUM_WORKERS)\n",
    "    failures = sum(tqdm.tqdm(pool.imap_unordered(download_image, key_url_list),\n",
    "                             total=len(key_url_list)))\n",
    "    print('Total number of download failures:', failures)\n",
    "    pool.close()\n",
    "    pool.terminate()"
   ]
  },
  {
   "cell_type": "code",
   "execution_count": null,
   "metadata": {},
   "outputs": [
    {
     "name": "stderr",
     "output_type": "stream",
     "text": [
      "  0%|          | 30/117703 [00:03<4:04:53,  8.01it/s]"
     ]
    },
    {
     "name": "stdout",
     "output_type": "stream",
     "text": [
      "Warning: Could not download image 00129c981f8e343f from https://lh3.googleusercontent.com/-1pnJtcFnlKo/WJ-s0G3E6YI/AAAAAAAACAw/ukBkd5eKnlQNiVwKEco_9sOKyjbmigVPwCOcB/s128/\n"
     ]
    },
    {
     "name": "stderr",
     "output_type": "stream",
     "text": [
      "  0%|          | 40/117703 [00:04<3:48:03,  8.60it/s]"
     ]
    },
    {
     "name": "stdout",
     "output_type": "stream",
     "text": [
      "Warning: Could not download image 0017d8ef2a3acd3c from https://lh3.googleusercontent.com/-Sj8AfZFbi5M/WHtZLG9W8ZI/AAAAAAAAAFQ/l5itkQLJgPQVhNs1mjqj1gsNwsNbICMfwCOcB/s128/\n"
     ]
    },
    {
     "name": "stderr",
     "output_type": "stream",
     "text": [
      "\r",
      "  0%|          | 42/117703 [00:05<4:05:11,  8.00it/s]"
     ]
    },
    {
     "name": "stdout",
     "output_type": "stream",
     "text": [
      "Warning: Could not download image 0018761e6c424bd4 from https://lh3.googleusercontent.com/-4OnuMJupl3I/WNHKB-3OMRI/AAAAAAAAG6I/z4FtQ7M97N0cpHz9gsz6poFCMeCKU798QCOcB/s128/\n"
     ]
    },
    {
     "name": "stderr",
     "output_type": "stream",
     "text": [
      "  0%|          | 48/117703 [00:05<4:02:31,  8.09it/s]"
     ]
    },
    {
     "name": "stdout",
     "output_type": "stream",
     "text": [
      "Warning: Could not download image 0019a87e323272b8 from https://lh3.googleusercontent.com/--eE8fWDhO9s/WMnU-v5QT-I/AAAAAAAAQj0/k2GdzzlgBBYFhHjS6bfYjDc8GP5W58PWgCOcB/s128/\n"
     ]
    },
    {
     "name": "stderr",
     "output_type": "stream",
     "text": [
      "  0%|          | 103/117703 [00:12<3:50:55,  8.49it/s]"
     ]
    },
    {
     "name": "stdout",
     "output_type": "stream",
     "text": [
      "Warning: Could not download image 00395880ab6a8785 from http://lh3.ggpht.com/_8Ia0w4O1jEw/S0-lcH5bwmI/AAAAAAAAJZw/TBfD8GOBRO4/s128/\n",
      "Warning: Could not download image 003936911178c6f1 from https://lh3.googleusercontent.com/-6uAn1hkyCOM/WIo2530OUwI/AAAAAAAAf5A/zKq09yVJqZ0d6eluRmAT1dTx23IGxcmjwCOcB/s128/\n"
     ]
    },
    {
     "name": "stderr",
     "output_type": "stream",
     "text": [
      "  0%|          | 184/117703 [00:21<3:51:56,  8.44it/s]"
     ]
    }
   ],
   "source": [
    "loader(overwrite_urls(DATA_FRAME))"
   ]
  },
  {
   "cell_type": "code",
   "execution_count": null,
   "metadata": {},
   "outputs": [],
   "source": [
    "##Total number of download failures: 50570\n",
    "\n",
    "##total of test: 108333/117703"
   ]
  }
 ],
 "metadata": {
  "kernelspec": {
   "display_name": "Python 3",
   "language": "python",
   "name": "python3"
  },
  "language_info": {
   "codemirror_mode": {
    "name": "ipython",
    "version": 3
   },
   "file_extension": ".py",
   "mimetype": "text/x-python",
   "name": "python",
   "nbconvert_exporter": "python",
   "pygments_lexer": "ipython3",
   "version": "3.5.2"
  }
 },
 "nbformat": 4,
 "nbformat_minor": 2
}
